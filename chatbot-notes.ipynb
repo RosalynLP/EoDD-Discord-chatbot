{
 "cells": [
  {
   "cell_type": "markdown",
   "id": "22607df8-d644-48d5-96d0-491d9df08997",
   "metadata": {},
   "source": [
    "* Got to\n",
    "https://discord.com/developers/applications\n",
    "* Create new application\n"
   ]
  },
  {
   "cell_type": "code",
   "execution_count": null,
   "id": "4a39bc5c-61ce-4c30-b3ad-fb3435859763",
   "metadata": {},
   "outputs": [],
   "source": []
  }
 ],
 "metadata": {
  "kernelspec": {
   "display_name": "Python 3",
   "language": "python",
   "name": "python3"
  },
  "language_info": {
   "name": ""
  }
 },
 "nbformat": 4,
 "nbformat_minor": 5
}
